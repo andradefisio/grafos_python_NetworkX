{
  "nbformat": 4,
  "nbformat_minor": 0,
  "metadata": {
    "colab": {
      "provenance": [],
      "authorship_tag": "ABX9TyNj7Tm7cZuSTsI8iSk8y4X8",
      "include_colab_link": true
    },
    "kernelspec": {
      "name": "python3",
      "display_name": "Python 3"
    },
    "language_info": {
      "name": "python"
    }
  },
  "cells": [
    {
      "cell_type": "markdown",
      "metadata": {
        "id": "view-in-github",
        "colab_type": "text"
      },
      "source": [
        "<a href=\"https://colab.research.google.com/github/andradefisio/grafos_python_NetworkX/blob/main/manipulacao_grafos_python_NetworkX.ipynb\" target=\"_parent\"><img src=\"https://colab.research.google.com/assets/colab-badge.svg\" alt=\"Open In Colab\"/></a>"
      ]
    },
    {
      "cell_type": "code",
      "execution_count": 1,
      "metadata": {
        "id": "dDyMGE67C-EO"
      },
      "outputs": [],
      "source": [
        "import networkx as nx\n",
        "import matplotlib.pyplot as plt"
      ]
    },
    {
      "cell_type": "code",
      "source": [
        "#criando grafo vazio\n",
        "G = nx.Graph()"
      ],
      "metadata": {
        "id": "EUkZumTTDTKz"
      },
      "execution_count": 57,
      "outputs": []
    },
    {
      "cell_type": "code",
      "source": [
        "# Adicioando vértices\n",
        "G.add_node('V1')\n",
        "G.add_node('V2')\n",
        "G.add_node('V3')\n",
        "G.add_node('V4')\n",
        "G.add_node('V5')\n",
        "G.add_node('V6')"
      ],
      "metadata": {
        "id": "x6GLCxiFDeER"
      },
      "execution_count": 58,
      "outputs": []
    },
    {
      "cell_type": "code",
      "source": [
        "# Adicionando arestas\n",
        "G.add_edge('V1','V2')\n",
        "G.add_edge('V2', 'V3')\n",
        "G.add_edge('V3', 'V4')\n",
        "G.add_edge('V4', 'V5')\n",
        "G.add_edge('V5', 'V1')\n",
        "G.add_edge('V2', 'V4')\n",
        "G.add_edge('V2', 'V6')\n"
      ],
      "metadata": {
        "id": "adesNO8DDvjP"
      },
      "execution_count": 59,
      "outputs": []
    },
    {
      "cell_type": "code",
      "source": [
        "# print lista de vértices\n",
        "print(\"Lista de Vértices\")\n",
        "print(G.nodes())"
      ],
      "metadata": {
        "colab": {
          "base_uri": "https://localhost:8080/"
        },
        "id": "2TNDhZA8EKBZ",
        "outputId": "3688de1d-51ca-4f6f-bf99-beec9e808112"
      },
      "execution_count": 40,
      "outputs": [
        {
          "output_type": "stream",
          "name": "stdout",
          "text": [
            "Lista de Vértices\n",
            "['V1', 'V2', 'V3', 'V4', 'V5', 'V6']\n"
          ]
        }
      ]
    },
    {
      "cell_type": "code",
      "source": [
        "# percorrendo o conjunto de vértices\n",
        "for v in G.nodes():\n",
        "    print(v)"
      ],
      "metadata": {
        "colab": {
          "base_uri": "https://localhost:8080/"
        },
        "id": "ytDD3yb0EYWB",
        "outputId": "b751fc48-b82b-46d0-f30b-bdb7cceeb6d9"
      },
      "execution_count": 54,
      "outputs": [
        {
          "output_type": "stream",
          "name": "stdout",
          "text": [
            "V1\n",
            "V2\n",
            "V3\n",
            "V4\n",
            "V5\n",
            "V6\n"
          ]
        }
      ]
    },
    {
      "cell_type": "code",
      "source": [
        "# lista de arestas\n",
        "for a in G.edges():\n",
        "    print(a)"
      ],
      "metadata": {
        "colab": {
          "base_uri": "https://localhost:8080/"
        },
        "id": "P4mvyHdiE0Qx",
        "outputId": "839e5a26-dabf-423b-dd6f-c35961e87f8d"
      },
      "execution_count": 55,
      "outputs": [
        {
          "output_type": "stream",
          "name": "stdout",
          "text": [
            "('V1', 'V2')\n",
            "('V1', 'V5')\n",
            "('V2', 'V3')\n",
            "('V2', 'V4')\n",
            "('V2', 'V5')\n",
            "('V3', 'V4')\n",
            "('V4', 'V5')\n"
          ]
        }
      ]
    },
    {
      "cell_type": "code",
      "source": [
        "# grau do vértice\n",
        "print('O grau do ´vertice é %d' %G.degree['V1'])"
      ],
      "metadata": {
        "colab": {
          "base_uri": "https://localhost:8080/"
        },
        "id": "M_druMkZFFW0",
        "outputId": "e0fca112-6939-4243-99e5-cdf59784a9a4"
      },
      "execution_count": 44,
      "outputs": [
        {
          "output_type": "stream",
          "name": "stdout",
          "text": [
            "O grau do ´vertice é 2\n"
          ]
        }
      ]
    },
    {
      "cell_type": "code",
      "source": [
        "# print grafo como lista de adjacencia\n",
        "print(G['V1'])\n",
        "print(G['V2'])\n",
        "print(G['V3'])\n",
        "print(G['V4'])\n",
        "print(G['V5'])"
      ],
      "metadata": {
        "colab": {
          "base_uri": "https://localhost:8080/"
        },
        "id": "yymZXB5DFdnu",
        "outputId": "664056d0-932c-426f-8240-dea05aca11e0"
      },
      "execution_count": 45,
      "outputs": [
        {
          "output_type": "stream",
          "name": "stdout",
          "text": [
            "{'V2': {}, 'V5': {}}\n",
            "{'V1': {}, 'V3': {}, 'V4': {}}\n",
            "{'V2': {}, 'V4': {}}\n",
            "{'V3': {}, 'V5': {}, 'V2': {}}\n",
            "{'V4': {}, 'V1': {}}\n"
          ]
        }
      ]
    },
    {
      "cell_type": "code",
      "source": [
        "# matriz de adjacencia do grafo\n",
        "print('matriz de adjacencia de G')\n",
        "A = nx.adjacency_matrix(G)\n",
        "print(A.todense())"
      ],
      "metadata": {
        "colab": {
          "base_uri": "https://localhost:8080/"
        },
        "id": "I01TrnGoGQI8",
        "outputId": "8f6f3351-6d9f-4daa-d16b-e023ac1b7286"
      },
      "execution_count": 46,
      "outputs": [
        {
          "output_type": "stream",
          "name": "stdout",
          "text": [
            "matriz de adjacencia de G\n",
            "[[0 1 0 0 1 0]\n",
            " [1 0 1 1 0 0]\n",
            " [0 1 0 1 0 0]\n",
            " [0 1 1 0 1 0]\n",
            " [1 0 0 1 0 0]\n",
            " [0 0 0 0 0 0]]\n"
          ]
        }
      ]
    },
    {
      "cell_type": "code",
      "source": [
        "# adicionando peso em cada aresta\n",
        "G['V1']['V2']['peso'] = 5\n",
        "G['V2']['V3']['peso'] = 10\n",
        "G['V3']['V4']['peso'] = 2\n",
        "G['V4']['V5']['peso'] = 7\n",
        "G['V5']['V1']['peso'] = 4\n",
        "G['V2']['V4']['peso'] = 8"
      ],
      "metadata": {
        "id": "4EUIgk1OGoBT"
      },
      "execution_count": 47,
      "outputs": []
    },
    {
      "cell_type": "code",
      "source": [
        "plt.figure(2)\n",
        "nx.draw_networkx(G, pos=nx.spring_layout(G), with_labels=True)\n",
        "plt.show\n"
      ],
      "metadata": {
        "colab": {
          "base_uri": "https://localhost:8080/",
          "height": 424
        },
        "id": "glUPRdM2HsFv",
        "outputId": "c3ac44e8-5808-4ed2-de8b-21b16b0d9302"
      },
      "execution_count": 60,
      "outputs": [
        {
          "output_type": "execute_result",
          "data": {
            "text/plain": [
              "<function matplotlib.pyplot.show(close=None, block=None)>"
            ]
          },
          "metadata": {},
          "execution_count": 60
        },
        {
          "output_type": "display_data",
          "data": {
            "text/plain": [
              "<Figure size 640x480 with 1 Axes>"
            ],
            "image/png": "[encoded data removed]"
          },
          "metadata": {}
        }
      ]
    }
  ]
}